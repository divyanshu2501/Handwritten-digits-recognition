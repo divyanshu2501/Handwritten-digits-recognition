{
  "nbformat": 4,
  "nbformat_minor": 0,
  "metadata": {
    "colab": {
      "name": "HandWritten_Digit_model.ipynb",
      "provenance": []
    },
    "kernelspec": {
      "name": "python3",
      "display_name": "Python 3"
    },
    "language_info": {
      "name": "python"
    }
  },
  "cells": [
    {
      "cell_type": "markdown",
      "source": [
        "#Handwritten digit recognizer"
      ],
      "metadata": {
        "id": "xED4pyNKgU0U"
      }
    },
    {
      "cell_type": "markdown",
      "source": [
        "The dataset used for this is an open source dataset availble in Kaggle. The analysis uses different models acheive high test accuracy."
      ],
      "metadata": {
        "id": "4f_kIQg0gam0"
      }
    },
    {
      "cell_type": "markdown",
      "source": [
        "The dataset is availble on https://www.kaggle.com/c/digit-recognizer. It has images of 32 by 32 pixels in grey scale. \n"
      ],
      "metadata": {
        "id": "_lZnJN2Zg34K"
      }
    },
    {
      "cell_type": "markdown",
      "source": [
        "# Importing Dataset and relevant libraries"
      ],
      "metadata": {
        "id": "ZPxOoBeIhSzr"
      }
    },
    {
      "cell_type": "code",
      "execution_count": 2,
      "metadata": {
        "id": "7wrC2F8YgSMH"
      },
      "outputs": [],
      "source": [
        "import pandas as pd\n",
        "import numpy as np\n",
        "import keras\n",
        "from matplotlib import pyplot as plt\n",
        "import seaborn as sns\n",
        "from sklearn.model_selection import *\n",
        "from keras.utils.np_utils import to_categorical\n",
        "from keras.models import Sequential\n",
        "from keras.layers import *\n",
        "from keras.callbacks import EarlyStopping\n",
        "from sklearn.linear_model import LogisticRegression\n",
        "from keras.wrappers.scikit_learn import KerasClassifier\n",
        "from keras import regularizers"
      ]
    },
    {
      "cell_type": "code",
      "source": [
        "digit_train = pd.read_csv(\"/content/train.csv\")\n",
        "digit_test = pd.read_csv(\"/content/test.csv\")"
      ],
      "metadata": {
        "id": "kcC51piEi2Xt"
      },
      "execution_count": 7,
      "outputs": []
    },
    {
      "cell_type": "markdown",
      "source": [
        "##Basic exploratory data analysis"
      ],
      "metadata": {
        "id": "zbtPyiHpgTJq"
      }
    },
    {
      "cell_type": "code",
      "source": [
        "print(\"digit_train shape :\",digit_train.shape)\n",
        "print(\"digit_test shape :\",digit_test.shape)"
      ],
      "metadata": {
        "colab": {
          "base_uri": "https://localhost:8080/"
        },
        "id": "shWz5Ag1jqtd",
        "outputId": "b927a814-f79d-4681-fb27-c0e7c25562c4"
      },
      "execution_count": 9,
      "outputs": [
        {
          "output_type": "stream",
          "name": "stdout",
          "text": [
            "digit_train shape : (42000, 785)\n",
            "digit_test shape : (28000, 784)\n"
          ]
        }
      ]
    },
    {
      "cell_type": "markdown",
      "source": [
        "Splitting the data into training set and labels"
      ],
      "metadata": {
        "id": "u7UU-b3xlXoR"
      }
    },
    {
      "cell_type": "code",
      "source": [
        "X_train, y_train = digit_train.iloc[:,1:], digit_train[\"label\"]"
      ],
      "metadata": {
        "id": "sUy2H5MelKHq"
      },
      "execution_count": 54,
      "outputs": []
    },
    {
      "cell_type": "code",
      "source": [
        "X_test = digit_test"
      ],
      "metadata": {
        "id": "ETBNVQ7UlK6a"
      },
      "execution_count": 55,
      "outputs": []
    },
    {
      "cell_type": "markdown",
      "source": [
        "Since the data has been taken from Kaggle it won't have any null values."
      ],
      "metadata": {
        "id": "Mol-jDjMkD2B"
      }
    },
    {
      "cell_type": "markdown",
      "source": [
        "#Visualization"
      ],
      "metadata": {
        "id": "dEo4nvookVvF"
      }
    },
    {
      "cell_type": "code",
      "source": [
        "fig, ax = plt.subplots(2,3, figsize = (12,6))\n",
        "ax[0,0].set_title(\"Image 1\")\n",
        "ax[0,0].imshow(np.array(X_train.iloc[0]).reshape(28,28), cmap = \"gray\")\n",
        "ax[0,1].set_title(\"Image 2\")\n",
        "ax[0,1].imshow(np.array(X_train.iloc[1]).reshape(28,28), cmap = \"gray\")\n",
        "ax[0,2].set_title(\"Image 3\")\n",
        "ax[0,2].imshow(np.array(X_train.iloc[2]).reshape(28,28), cmap = \"gray\")\n",
        "ax[1,0].set_title(\"Image 4\")\n",
        "ax[1,0].imshow(np.array(X_train.iloc[3]).reshape(28,28), cmap = \"gray\")\n",
        "ax[1,1].set_title(\"Image 5\")\n",
        "ax[1,1].imshow(np.array(X_train.iloc[4]).reshape(28,28), cmap = \"gray\")\n",
        "ax[1,2].set_title(\"Image 6\")\n",
        "ax[1,2].imshow(np.array(X_train.iloc[5]).reshape(28,28), cmap = \"gray\")"
      ],
      "metadata": {
        "colab": {
          "base_uri": "https://localhost:8080/",
          "height": 407
        },
        "id": "nLbnvXAUjy2N",
        "outputId": "38f4795a-8423-4381-8bb4-ca924cf871a4"
      },
      "execution_count": 56,
      "outputs": [
        {
          "output_type": "execute_result",
          "data": {
            "text/plain": [
              "<matplotlib.image.AxesImage at 0x7f0634cad250>"
            ]
          },
          "metadata": {},
          "execution_count": 56
        },
        {
          "output_type": "display_data",
          "data": {
            "image/png": "[encoded data removed]",
            "text/plain": [
              "<Figure size 864x432 with 6 Axes>"
            ]
          },
          "metadata": {
            "needs_background": "light"
          }
        }
      ]
    },
    {
      "cell_type": "markdown",
      "source": [
        "Let's have a look with standarized values"
      ],
      "metadata": {
        "id": "0E9GvTUmxEKQ"
      }
    },
    {
      "cell_type": "code",
      "source": [
        "def standarized(data):\n",
        "  mean_ = data.mean()\n",
        "  std_ = data.std()\n",
        "  new_data = (data - mean_)/std_\n",
        "  return new_data"
      ],
      "metadata": {
        "id": "Q-XpSus_xbJI"
      },
      "execution_count": 57,
      "outputs": []
    },
    {
      "cell_type": "code",
      "source": [
        "\n",
        "fig, ax = plt.subplots(2,3, figsize = (12,6))\n",
        "ax[0,0].set_title(\"Image 1\")\n",
        "ax[0,0].imshow(np.array(standarized(X_train.iloc[0])).reshape(28,28), cmap = \"gray\")\n",
        "ax[0,1].set_title(\"Image 2\")\n",
        "ax[0,1].imshow(np.array(standarized(X_train.iloc[1])).reshape(28,28), cmap = \"gray\")\n",
        "ax[0,2].set_title(\"Image 3\")\n",
        "ax[0,2].imshow(np.array(standarized(X_train.iloc[2])).reshape(28,28), cmap = \"gray\")\n",
        "ax[1,0].set_title(\"Image 4\")\n",
        "ax[1,0].imshow(np.array(standarized(X_train.iloc[3])).reshape(28,28), cmap = \"gray\")\n",
        "ax[1,1].set_title(\"Image 5\")\n",
        "ax[1,1].imshow(np.array(standarized(X_train.iloc[4])).reshape(28,28), cmap = \"gray\")\n",
        "ax[1,2].set_title(\"Image 6\")\n",
        "ax[1,2].imshow(np.array(standarized(X_train.iloc[5])).reshape(28,28), cmap = \"gray\")"
      ],
      "metadata": {
        "colab": {
          "base_uri": "https://localhost:8080/",
          "height": 407
        },
        "id": "HfZZ5i-mxDd0",
        "outputId": "18a58e5b-d256-4483-e076-b2f3ef732014"
      },
      "execution_count": 58,
      "outputs": [
        {
          "output_type": "execute_result",
          "data": {
            "text/plain": [
              "<matplotlib.image.AxesImage at 0x7f06369193d0>"
            ]
          },
          "metadata": {},
          "execution_count": 58
        },
        {
          "output_type": "display_data",
          "data": {
            "image/png": "[encoded data removed]",
            "text/plain": [
              "<Figure size 864x432 with 6 Axes>"
            ]
          },
          "metadata": {
            "needs_background": "light"
          }
        }
      ]
    },
    {
      "cell_type": "markdown",
      "source": [
        "The visualization for standardized values remained the same."
      ],
      "metadata": {
        "id": "zt7sEvxiHJpZ"
      }
    },
    {
      "cell_type": "code",
      "source": [
        "y_train.value_counts(sort=True)"
      ],
      "metadata": {
        "colab": {
          "base_uri": "https://localhost:8080/"
        },
        "id": "sXiCLJVulieu",
        "outputId": "e5290684-1641-4e82-a394-3ee1b107b2ca"
      },
      "execution_count": 59,
      "outputs": [
        {
          "output_type": "execute_result",
          "data": {
            "text/plain": [
              "1    4684\n",
              "7    4401\n",
              "3    4351\n",
              "9    4188\n",
              "2    4177\n",
              "6    4137\n",
              "0    4132\n",
              "4    4072\n",
              "8    4063\n",
              "5    3795\n",
              "Name: label, dtype: int64"
            ]
          },
          "metadata": {},
          "execution_count": 59
        }
      ]
    },
    {
      "cell_type": "code",
      "source": [
        "plt.figure(figsize = (10,5))\n",
        "ax = sns.barplot(x=y_train.value_counts(sort=True).index, y = y_train.value_counts(sort=True).values)\n",
        "ax.set_title(\"Distribution of labels\")\n",
        "ax.set_ylabel(\"Proportion of the label\")\n",
        "ax.set_xlabel(\"Labels\")"
      ],
      "metadata": {
        "colab": {
          "base_uri": "https://localhost:8080/",
          "height": 367
        },
        "id": "fX5AogWimLG9",
        "outputId": "db0d312e-a54e-4eb1-9251-e49e232700bb"
      },
      "execution_count": 60,
      "outputs": [
        {
          "output_type": "execute_result",
          "data": {
            "text/plain": [
              "Text(0.5, 0, 'Labels')"
            ]
          },
          "metadata": {},
          "execution_count": 60
        },
        {
          "output_type": "display_data",
          "data": {
            "image/png": "[encoded data removed]",
            "text/plain": [
              "<Figure size 720x360 with 1 Axes>"
            ]
          },
          "metadata": {
            "needs_background": "light"
          }
        }
      ]
    },
    {
      "cell_type": "markdown",
      "source": [
        "The dataset has the highest no. of labels for label \"1\" and least for \"5\", but there is enough of all the labels for training."
      ],
      "metadata": {
        "id": "zXtYwywQlpgC"
      }
    },
    {
      "cell_type": "markdown",
      "source": [
        "#Engineering data "
      ],
      "metadata": {
        "id": "YppcttWkmsd8"
      }
    },
    {
      "cell_type": "markdown",
      "source": [
        "Transforming the data is a key part in ML and DL. Since images are in greyscale the have values from 0 to 255. If we scale the value between 0 and 1 it will help in the future as some values would not dominate others during the training."
      ],
      "metadata": {
        "id": "fNU7rkM2HgfQ"
      }
    },
    {
      "cell_type": "code",
      "source": [
        "#normalizing the dataset\n",
        "X_train = X_train / 255\n",
        "X_test = X_test / 255"
      ],
      "metadata": {
        "id": "AwuUV0GYmiZG"
      },
      "execution_count": 61,
      "outputs": []
    },
    {
      "cell_type": "markdown",
      "source": [
        "The labels in the dataset is in the form of numbers. For computational purposes we ned change the values to categories."
      ],
      "metadata": {
        "id": "juGLY_7AH3VK"
      }
    },
    {
      "cell_type": "code",
      "source": [
        "#Coverting labels to categorical labels\n",
        "y_train = to_categorical(y_train, num_classes = 10)"
      ],
      "metadata": {
        "id": "73iaalQpmiVq"
      },
      "execution_count": 62,
      "outputs": []
    },
    {
      "cell_type": "code",
      "source": [
        "#Splitting the dataset\n",
        "X_train, X_test, y_train, y_test = train_test_split(X_train, y_train, test_size = 0.2)"
      ],
      "metadata": {
        "id": "1f5cZ75jojTn"
      },
      "execution_count": 63,
      "outputs": []
    },
    {
      "cell_type": "markdown",
      "source": [
        "We will now reshape the data so that it can be used in CNNs."
      ],
      "metadata": {
        "id": "dAseoqeiIJfu"
      }
    },
    {
      "cell_type": "code",
      "source": [
        "#Reshaping the data so that it can be used in CNN\n",
        "X_train_r, X_test_r = X_train.values.reshape(-1,28,28,1), X_test.values.reshape(-1,28,28,1)"
      ],
      "metadata": {
        "id": "Ud4towSKpH4b"
      },
      "execution_count": 64,
      "outputs": []
    },
    {
      "cell_type": "markdown",
      "source": [
        "We can build models without reshaping the data as well. We can us any classifier like Logistic Regression. Also we can use Conventional Neural Networks also."
      ],
      "metadata": {
        "id": "UUXs3Gtapygy"
      }
    },
    {
      "cell_type": "markdown",
      "source": [
        "Table for comparing Different models"
      ],
      "metadata": {
        "id": "9DUJL014u4Ee"
      }
    },
    {
      "cell_type": "code",
      "source": [
        "Comparison_table = pd.DataFrame(columns = [\"model\", \"Test accuracy\"])"
      ],
      "metadata": {
        "id": "lXWe9qmpIYta"
      },
      "execution_count": 145,
      "outputs": []
    },
    {
      "cell_type": "markdown",
      "source": [
        "Model: Conventional Neural Network"
      ],
      "metadata": {
        "id": "-jLjEjp5qN5Q"
      }
    },
    {
      "cell_type": "code",
      "source": [
        "model_1 = Sequential()\n",
        "model_1.add(Dense(32, input_shape = (784,), activation = \"relu\"))\n",
        "#Output layer\n",
        "model_1.add(Dense(10, activation = \"softmax\"))\n",
        "model_1.compile(optimizer = \"adam\", loss = \"categorical_crossentropy\", metrics = [\"accuracy\"])\n",
        "model_1.summary()"
      ],
      "metadata": {
        "colab": {
          "base_uri": "https://localhost:8080/"
        },
        "id": "S3U0utwSqNcY",
        "outputId": "2e4d7b50-bb5d-457d-dc4e-402a3bffec0b"
      },
      "execution_count": 65,
      "outputs": [
        {
          "output_type": "stream",
          "name": "stdout",
          "text": [
            "Model: \"sequential_7\"\n",
            "_________________________________________________________________\n",
            " Layer (type)                Output Shape              Param #   \n",
            "=================================================================\n",
            " dense_22 (Dense)            (None, 32)                25120     \n",
            "                                                                 \n",
            " dense_23 (Dense)            (None, 10)                330       \n",
            "                                                                 \n",
            "=================================================================\n",
            "Total params: 25,450\n",
            "Trainable params: 25,450\n",
            "Non-trainable params: 0\n",
            "_________________________________________________________________\n"
          ]
        }
      ]
    },
    {
      "cell_type": "code",
      "source": [
        "#Calling the early-stopping fuction. If the value for val_accuracy doesn't change for 5 epochs then model will stop\n",
        "early_stopping = EarlyStopping(monitor = \"val_accuracy\", patience = 5)\n",
        "history = model_1.fit(X_train, y_train, epochs = 50, validation_split = 0.2, callbacks = [early_stopping])"
      ],
      "metadata": {
        "colab": {
          "base_uri": "https://localhost:8080/"
        },
        "id": "J-qdZYmvpyFQ",
        "outputId": "6d63d84f-7fe4-4893-98d8-e4f30750845b"
      },
      "execution_count": 66,
      "outputs": [
        {
          "output_type": "stream",
          "name": "stdout",
          "text": [
            "Epoch 1/50\n",
            "840/840 [==============================] - 2s 2ms/step - loss: 0.4848 - accuracy: 0.8680 - val_loss: 0.2910 - val_accuracy: 0.9122\n",
            "Epoch 2/50\n",
            "840/840 [==============================] - 2s 2ms/step - loss: 0.2649 - accuracy: 0.9244 - val_loss: 0.2401 - val_accuracy: 0.9302\n",
            "Epoch 3/50\n",
            "840/840 [==============================] - 2s 2ms/step - loss: 0.2182 - accuracy: 0.9372 - val_loss: 0.2005 - val_accuracy: 0.9414\n",
            "Epoch 4/50\n",
            "840/840 [==============================] - 2s 2ms/step - loss: 0.1889 - accuracy: 0.9465 - val_loss: 0.1864 - val_accuracy: 0.9449\n",
            "Epoch 5/50\n",
            "840/840 [==============================] - 2s 2ms/step - loss: 0.1655 - accuracy: 0.9515 - val_loss: 0.1695 - val_accuracy: 0.9507\n",
            "Epoch 6/50\n",
            "840/840 [==============================] - 2s 2ms/step - loss: 0.1454 - accuracy: 0.9577 - val_loss: 0.1691 - val_accuracy: 0.9506\n",
            "Epoch 7/50\n",
            "840/840 [==============================] - 2s 2ms/step - loss: 0.1294 - accuracy: 0.9628 - val_loss: 0.1545 - val_accuracy: 0.9546\n",
            "Epoch 8/50\n",
            "840/840 [==============================] - 2s 2ms/step - loss: 0.1157 - accuracy: 0.9652 - val_loss: 0.1498 - val_accuracy: 0.9557\n",
            "Epoch 9/50\n",
            "840/840 [==============================] - 2s 2ms/step - loss: 0.1038 - accuracy: 0.9693 - val_loss: 0.1509 - val_accuracy: 0.9554\n",
            "Epoch 10/50\n",
            "840/840 [==============================] - 2s 2ms/step - loss: 0.0943 - accuracy: 0.9730 - val_loss: 0.1435 - val_accuracy: 0.9574\n",
            "Epoch 11/50\n",
            "840/840 [==============================] - 2s 2ms/step - loss: 0.0860 - accuracy: 0.9747 - val_loss: 0.1406 - val_accuracy: 0.9589\n",
            "Epoch 12/50\n",
            "840/840 [==============================] - 2s 2ms/step - loss: 0.0773 - accuracy: 0.9766 - val_loss: 0.1525 - val_accuracy: 0.9554\n",
            "Epoch 13/50\n",
            "840/840 [==============================] - 2s 2ms/step - loss: 0.0710 - accuracy: 0.9793 - val_loss: 0.1382 - val_accuracy: 0.9615\n",
            "Epoch 14/50\n",
            "840/840 [==============================] - 2s 2ms/step - loss: 0.0640 - accuracy: 0.9818 - val_loss: 0.1529 - val_accuracy: 0.9554\n",
            "Epoch 15/50\n",
            "840/840 [==============================] - 2s 2ms/step - loss: 0.0603 - accuracy: 0.9820 - val_loss: 0.1479 - val_accuracy: 0.9580\n",
            "Epoch 16/50\n",
            "840/840 [==============================] - 2s 2ms/step - loss: 0.0543 - accuracy: 0.9846 - val_loss: 0.1459 - val_accuracy: 0.9606\n",
            "Epoch 17/50\n",
            "840/840 [==============================] - 2s 2ms/step - loss: 0.0494 - accuracy: 0.9859 - val_loss: 0.1470 - val_accuracy: 0.9592\n",
            "Epoch 18/50\n",
            "840/840 [==============================] - 2s 2ms/step - loss: 0.0469 - accuracy: 0.9871 - val_loss: 0.1504 - val_accuracy: 0.9582\n"
          ]
        }
      ]
    },
    {
      "cell_type": "code",
      "source": [
        "fig = plt.figure(figsize = (8,4))\n",
        "ax1= plt.plot(history.history[\"accuracy\"], label = \"training\")\n",
        "ax2 = plt.plot(history.history[\"val_accuracy\"], label = \"validation\")\n",
        "plt.legend(loc=\"upper left\")\n",
        "plt.xlabel(\"Epochs\")\n",
        "plt.ylim(0.85,1)\n",
        "plt.ylabel(\"Accuracy\")\n",
        "plt.title(\"Training accuracy and Validation accuracy by epochs\");"
      ],
      "metadata": {
        "colab": {
          "base_uri": "https://localhost:8080/",
          "height": 295
        },
        "id": "5G68d7d4ym7U",
        "outputId": "1945be29-9a10-444b-8c2e-8a14ac879228"
      },
      "execution_count": 67,
      "outputs": [
        {
          "output_type": "display_data",
          "data": {
            "image/png": "[encoded data removed]",
            "text/plain": [
              "<Figure size 576x288 with 1 Axes>"
            ]
          },
          "metadata": {
            "needs_background": "light"
          }
        }
      ]
    },
    {
      "cell_type": "code",
      "source": [
        "test_accuracy = model_1.evaluate(X_test, y_test)[1]\n",
        "test_accuracy"
      ],
      "metadata": {
        "colab": {
          "base_uri": "https://localhost:8080/"
        },
        "id": "0gSdSfKnz33o",
        "outputId": "18ff646a-92af-4988-ec4a-abd40519d35c"
      },
      "execution_count": 100,
      "outputs": [
        {
          "output_type": "stream",
          "name": "stdout",
          "text": [
            "263/263 [==============================] - 0s 2ms/step - loss: 0.1750 - accuracy: 0.9504\n"
          ]
        },
        {
          "output_type": "execute_result",
          "data": {
            "text/plain": [
              "0.9503571391105652"
            ]
          },
          "metadata": {},
          "execution_count": 100
        }
      ]
    },
    {
      "cell_type": "code",
      "source": [
        "Comparison_table  = Comparison_table.append({\"model\": \"Shallow NN 1\", \"Test accuracy\": np.round(test_accuracy,6) }, ignore_index = True)"
      ],
      "metadata": {
        "id": "lFpDur1I3ky0"
      },
      "execution_count": 146,
      "outputs": []
    },
    {
      "cell_type": "markdown",
      "source": [
        "The model achieves an accuracy of 0.9503."
      ],
      "metadata": {
        "id": "vojjUPm3r903"
      }
    },
    {
      "cell_type": "markdown",
      "source": [
        "###Using a Deeper Network"
      ],
      "metadata": {
        "id": "hVmH-voavWaH"
      }
    },
    {
      "cell_type": "code",
      "source": [
        "model_2 = Sequential()\n",
        "model_2.add(Dense(1024, input_shape = (784,), activation = \"relu\"))\n",
        "model_2.add(Dropout(0.2))\n",
        "model_2.add(Dense(512, input_shape = (784,), activation = \"relu\"))\n",
        "model_2.add(Dropout(0.2))\n",
        "model_2.add(Dense(256, input_shape = (784,), activation = \"relu\"))\n",
        "model_2.add(Dropout(0.2))\n",
        "model_2.add(Dense(128, input_shape = (784,), activation = \"relu\"))\n",
        "#Output layer\n",
        "model_2.add(Dense(10, activation = \"softmax\"))\n",
        "model_2.compile(optimizer = \"adam\", loss = \"categorical_crossentropy\", metrics = [\"accuracy\"])\n",
        "model_2.summary()"
      ],
      "metadata": {
        "colab": {
          "base_uri": "https://localhost:8080/"
        },
        "id": "GQAhyh2WvVyW",
        "outputId": "7a254bc0-f14d-4e45-e11c-fe0fc0baffc9"
      },
      "execution_count": 68,
      "outputs": [
        {
          "output_type": "stream",
          "name": "stdout",
          "text": [
            "Model: \"sequential_8\"\n",
            "_________________________________________________________________\n",
            " Layer (type)                Output Shape              Param #   \n",
            "=================================================================\n",
            " dense_24 (Dense)            (None, 1024)              803840    \n",
            "                                                                 \n",
            " dropout_3 (Dropout)         (None, 1024)              0         \n",
            "                                                                 \n",
            " dense_25 (Dense)            (None, 512)               524800    \n",
            "                                                                 \n",
            " dropout_4 (Dropout)         (None, 512)               0         \n",
            "                                                                 \n",
            " dense_26 (Dense)            (None, 256)               131328    \n",
            "                                                                 \n",
            " dropout_5 (Dropout)         (None, 256)               0         \n",
            "                                                                 \n",
            " dense_27 (Dense)            (None, 128)               32896     \n",
            "                                                                 \n",
            " dense_28 (Dense)            (None, 10)                1290      \n",
            "                                                                 \n",
            "=================================================================\n",
            "Total params: 1,494,154\n",
            "Trainable params: 1,494,154\n",
            "Non-trainable params: 0\n",
            "_________________________________________________________________\n"
          ]
        }
      ]
    },
    {
      "cell_type": "code",
      "source": [
        "early_stopping = EarlyStopping(monitor = \"val_accuracy\", patience = 3)\n",
        "history = model_2.fit(X_train, y_train, epochs = 10, validation_split = 0.2, callbacks = [early_stopping])"
      ],
      "metadata": {
        "colab": {
          "base_uri": "https://localhost:8080/"
        },
        "id": "TmQnrlxXvyRH",
        "outputId": "2d820eee-5bf7-45ad-dba7-b72c27fe9234"
      },
      "execution_count": 69,
      "outputs": [
        {
          "output_type": "stream",
          "name": "stdout",
          "text": [
            "Epoch 1/10\n",
            "840/840 [==============================] - 14s 17ms/step - loss: 0.3265 - accuracy: 0.8993 - val_loss: 0.1610 - val_accuracy: 0.9528\n",
            "Epoch 2/10\n",
            "840/840 [==============================] - 14s 16ms/step - loss: 0.1643 - accuracy: 0.9513 - val_loss: 0.1229 - val_accuracy: 0.9662\n",
            "Epoch 3/10\n",
            "840/840 [==============================] - 13s 16ms/step - loss: 0.1166 - accuracy: 0.9654 - val_loss: 0.1205 - val_accuracy: 0.9653\n",
            "Epoch 4/10\n",
            "840/840 [==============================] - 13s 16ms/step - loss: 0.0988 - accuracy: 0.9717 - val_loss: 0.0996 - val_accuracy: 0.9729\n",
            "Epoch 5/10\n",
            "840/840 [==============================] - 13s 16ms/step - loss: 0.0806 - accuracy: 0.9756 - val_loss: 0.1021 - val_accuracy: 0.9701\n",
            "Epoch 6/10\n",
            "840/840 [==============================] - 13s 16ms/step - loss: 0.0756 - accuracy: 0.9783 - val_loss: 0.1092 - val_accuracy: 0.9747\n",
            "Epoch 7/10\n",
            "840/840 [==============================] - 13s 16ms/step - loss: 0.0632 - accuracy: 0.9821 - val_loss: 0.0923 - val_accuracy: 0.9759\n",
            "Epoch 8/10\n",
            "840/840 [==============================] - 14s 16ms/step - loss: 0.0561 - accuracy: 0.9841 - val_loss: 0.1052 - val_accuracy: 0.9757\n",
            "Epoch 9/10\n",
            "840/840 [==============================] - 13s 16ms/step - loss: 0.0563 - accuracy: 0.9837 - val_loss: 0.0973 - val_accuracy: 0.9747\n",
            "Epoch 10/10\n",
            "840/840 [==============================] - 13s 16ms/step - loss: 0.0510 - accuracy: 0.9846 - val_loss: 0.1159 - val_accuracy: 0.9766\n"
          ]
        }
      ]
    },
    {
      "cell_type": "code",
      "source": [
        "fig = plt.figure(figsize = (8,4))\n",
        "ax1= plt.plot(history.history[\"accuracy\"], label = \"training\")\n",
        "ax2 = plt.plot(history.history[\"val_accuracy\"], label = \"validation\")\n",
        "plt.legend(loc=\"upper left\")\n",
        "plt.xlabel(\"Epochs\")\n",
        "plt.ylim(0.85,1)\n",
        "plt.ylabel(\"Accuracy\")\n",
        "plt.title(\"Training accuracy and Validation accuracy by epochs\");"
      ],
      "metadata": {
        "colab": {
          "base_uri": "https://localhost:8080/",
          "height": 295
        },
        "id": "PRkhInlczZC9",
        "outputId": "85c99a98-afa6-4997-a79f-777b62bd36e3"
      },
      "execution_count": 71,
      "outputs": [
        {
          "output_type": "display_data",
          "data": {
            "image/png": "[encoded data removed]",
            "text/plain": [
              "<Figure size 576x288 with 1 Axes>"
            ]
          },
          "metadata": {
            "needs_background": "light"
          }
        }
      ]
    },
    {
      "cell_type": "code",
      "source": [
        "test_accuracy = model_2.evaluate(X_test, y_test)[1]\n",
        "test_accuracy"
      ],
      "metadata": {
        "colab": {
          "base_uri": "https://localhost:8080/"
        },
        "id": "Y1g3WM9C0GjC",
        "outputId": "a6a8bc11-ef40-41fb-91d3-7dab9814ac87"
      },
      "execution_count": 102,
      "outputs": [
        {
          "output_type": "stream",
          "name": "stdout",
          "text": [
            "263/263 [==============================] - 1s 4ms/step - loss: 0.1225 - accuracy: 0.9738\n"
          ]
        },
        {
          "output_type": "execute_result",
          "data": {
            "text/plain": [
              "0.973809540271759"
            ]
          },
          "metadata": {},
          "execution_count": 102
        }
      ]
    },
    {
      "cell_type": "markdown",
      "source": [
        "The model acheives test accuracy of 0.9738"
      ],
      "metadata": {
        "id": "RRj0Duam5OcU"
      }
    },
    {
      "cell_type": "code",
      "source": [
        "Comparison_table  = Comparison_table.append({\"model\": \"Deep NN 1\", \"Test accuracy\": np.round(test_accuracy,6) }, ignore_index = True)"
      ],
      "metadata": {
        "id": "6D1crEz_5KZF"
      },
      "execution_count": 147,
      "outputs": []
    },
    {
      "cell_type": "markdown",
      "source": [
        "##Using Convolution Neural Networks"
      ],
      "metadata": {
        "id": "OZeUkY05wfZV"
      }
    },
    {
      "cell_type": "code",
      "source": [
        "model_cnn1 = Sequential()\n",
        "#Layer1\n",
        "model_cnn1.add(Conv2D(filters = 64, kernel_size = (3,3), input_shape = (28,28,1),activation = \"relu\"))\n",
        "model_cnn1.add(BatchNormalization(name = \"bn0\"))\n",
        "model_cnn1.add(MaxPooling2D(pool_size = (2,2)))\n",
        "#Layer2\n",
        "model_cnn1.add(Conv2D(filters = 32, kernel_size = (3,3), activation = \"relu\"))\n",
        "model_cnn1.add(BatchNormalization(name = \"bn1\"))\n",
        "model_cnn1.add(MaxPooling2D(pool_size = (2,2)))\n",
        "#Flatten Outputs\n",
        "model_cnn1.add(Flatten())\n",
        "#Layer3\n",
        "model_cnn1.add(Dense(128, name = \"fc0\"))\n",
        "model_cnn1.add(BatchNormalization(name = \"bn2\"))\n",
        "model_cnn1.add(Activation(\"relu\", name = \"ac2\"))\n",
        "model_cnn1.add(Dropout(0.2))\n",
        "#Layer4\n",
        "model_cnn1.add(Dense(64, name = \"fc1\"))\n",
        "model_cnn1.add(BatchNormalization(name = \"bn3\"))\n",
        "model_cnn1.add(Activation(\"relu\", name = \"ac3\"))\n",
        "model_cnn1.add(Dropout(0.2))\n",
        "#Output\n",
        "model_cnn1.add(Dense(10, name = \"output\", activation = \"softmax\"))\n"
      ],
      "metadata": {
        "id": "aERKamVMwnFu"
      },
      "execution_count": 95,
      "outputs": []
    },
    {
      "cell_type": "code",
      "source": [
        "model_cnn1.summary()"
      ],
      "metadata": {
        "colab": {
          "base_uri": "https://localhost:8080/"
        },
        "id": "FGcrE0a3I3Jt",
        "outputId": "964b0d78-256f-43aa-afe6-90941e73c979"
      },
      "execution_count": 136,
      "outputs": [
        {
          "output_type": "stream",
          "name": "stdout",
          "text": [
            "Model: \"sequential_18\"\n",
            "_________________________________________________________________\n",
            " Layer (type)                Output Shape              Param #   \n",
            "=================================================================\n",
            " conv2d_11 (Conv2D)          (None, 26, 26, 64)        640       \n",
            "                                                                 \n",
            " bn0 (BatchNormalization)    (None, 26, 26, 64)        256       \n",
            "                                                                 \n",
            " max_pooling2d_9 (MaxPooling  (None, 13, 13, 64)       0         \n",
            " 2D)                                                             \n",
            "                                                                 \n",
            " conv2d_12 (Conv2D)          (None, 11, 11, 32)        18464     \n",
            "                                                                 \n",
            " bn1 (BatchNormalization)    (None, 11, 11, 32)        128       \n",
            "                                                                 \n",
            " max_pooling2d_10 (MaxPoolin  (None, 5, 5, 32)         0         \n",
            " g2D)                                                            \n",
            "                                                                 \n",
            " flatten_5 (Flatten)         (None, 800)               0         \n",
            "                                                                 \n",
            " fc0 (Dense)                 (None, 128)               102528    \n",
            "                                                                 \n",
            " bn2 (BatchNormalization)    (None, 128)               512       \n",
            "                                                                 \n",
            " ac2 (Activation)            (None, 128)               0         \n",
            "                                                                 \n",
            " dropout_19 (Dropout)        (None, 128)               0         \n",
            "                                                                 \n",
            " fc1 (Dense)                 (None, 64)                8256      \n",
            "                                                                 \n",
            " bn3 (BatchNormalization)    (None, 64)                256       \n",
            "                                                                 \n",
            " ac3 (Activation)            (None, 64)                0         \n",
            "                                                                 \n",
            " dropout_20 (Dropout)        (None, 64)                0         \n",
            "                                                                 \n",
            " output (Dense)              (None, 10)                650       \n",
            "                                                                 \n",
            " flatten_6 (Flatten)         (None, 10)                0         \n",
            "                                                                 \n",
            " flatten_7 (Flatten)         (None, 10)                0         \n",
            "                                                                 \n",
            " flatten_8 (Flatten)         (None, 10)                0         \n",
            "                                                                 \n",
            " flatten_9 (Flatten)         (None, 10)                0         \n",
            "                                                                 \n",
            "=================================================================\n",
            "Total params: 131,690\n",
            "Trainable params: 131,114\n",
            "Non-trainable params: 576\n",
            "_________________________________________________________________\n"
          ]
        }
      ]
    },
    {
      "cell_type": "code",
      "source": [
        "model_cnn1.compile(optimizer = \"adam\", loss = \"categorical_crossentropy\",  metrics = [\"accuracy\"])\n"
      ],
      "metadata": {
        "id": "-s9j73d-1ePL"
      },
      "execution_count": 96,
      "outputs": []
    },
    {
      "cell_type": "code",
      "source": [
        "history = model_cnn1.fit(X_train_r, y_train, validation_split = 0.2, epochs = 20, callbacks = [early_stopping])"
      ],
      "metadata": {
        "colab": {
          "base_uri": "https://localhost:8080/"
        },
        "id": "3wvP6XHowmW9",
        "outputId": "097b29a5-517c-4cf3-c1fd-5248c0e0e5a3"
      },
      "execution_count": 97,
      "outputs": [
        {
          "output_type": "stream",
          "name": "stdout",
          "text": [
            "Epoch 1/20\n",
            "840/840 [==============================] - 43s 50ms/step - loss: 0.2605 - accuracy: 0.9310 - val_loss: 0.0749 - val_accuracy: 0.9760\n",
            "Epoch 2/20\n",
            "840/840 [==============================] - 43s 51ms/step - loss: 0.0905 - accuracy: 0.9749 - val_loss: 0.0452 - val_accuracy: 0.9859\n",
            "Epoch 3/20\n",
            "840/840 [==============================] - 43s 51ms/step - loss: 0.0673 - accuracy: 0.9796 - val_loss: 0.0372 - val_accuracy: 0.9893\n",
            "Epoch 4/20\n",
            "840/840 [==============================] - 42s 50ms/step - loss: 0.0542 - accuracy: 0.9839 - val_loss: 0.0414 - val_accuracy: 0.9878\n",
            "Epoch 5/20\n",
            "840/840 [==============================] - 42s 51ms/step - loss: 0.0444 - accuracy: 0.9868 - val_loss: 0.0405 - val_accuracy: 0.9882\n",
            "Epoch 6/20\n",
            "840/840 [==============================] - 42s 50ms/step - loss: 0.0380 - accuracy: 0.9872 - val_loss: 0.0337 - val_accuracy: 0.9897\n",
            "Epoch 7/20\n",
            "840/840 [==============================] - 42s 50ms/step - loss: 0.0352 - accuracy: 0.9896 - val_loss: 0.0404 - val_accuracy: 0.9881\n",
            "Epoch 8/20\n",
            "840/840 [==============================] - 42s 50ms/step - loss: 0.0329 - accuracy: 0.9891 - val_loss: 0.0350 - val_accuracy: 0.9908\n",
            "Epoch 9/20\n",
            "840/840 [==============================] - 43s 51ms/step - loss: 0.0285 - accuracy: 0.9910 - val_loss: 0.0394 - val_accuracy: 0.9903\n",
            "Epoch 10/20\n",
            "840/840 [==============================] - 42s 50ms/step - loss: 0.0262 - accuracy: 0.9918 - val_loss: 0.0387 - val_accuracy: 0.9902\n",
            "Epoch 11/20\n",
            "840/840 [==============================] - 42s 50ms/step - loss: 0.0217 - accuracy: 0.9930 - val_loss: 0.0422 - val_accuracy: 0.9896\n"
          ]
        }
      ]
    },
    {
      "cell_type": "code",
      "source": [
        "fig = plt.figure(figsize = (8,4))\n",
        "ax1= plt.plot(history.history[\"accuracy\"], label = \"training\")\n",
        "ax2 = plt.plot(history.history[\"val_accuracy\"], label = \"validation\")\n",
        "plt.legend(loc=\"upper left\")\n",
        "plt.xlabel(\"Epochs\")\n",
        "plt.ylim(0.9,1)\n",
        "plt.ylabel(\"Accuracy\")\n",
        "plt.title(\"Training accuracy and Validation accuracy by epochs\");"
      ],
      "metadata": {
        "colab": {
          "base_uri": "https://localhost:8080/",
          "height": 295
        },
        "id": "PuYIl5rD4rjj",
        "outputId": "80a921cc-e877-4c25-dd07-7e3240f021c6"
      },
      "execution_count": 105,
      "outputs": [
        {
          "output_type": "display_data",
          "data": {
            "image/png": "[encoded data removed]",
            "text/plain": [
              "<Figure size 576x288 with 1 Axes>"
            ]
          },
          "metadata": {
            "needs_background": "light"
          }
        }
      ]
    },
    {
      "cell_type": "code",
      "source": [
        "test_accuracy = model_cnn1.evaluate(X_test_r, y_test)[1]\n",
        "Comparison_table = Comparison_table.append({\"model\": \"CNN 1\", \"Test accuracy\": np.round(test_accuracy,6) }, ignore_index = True)\n"
      ],
      "metadata": {
        "colab": {
          "base_uri": "https://localhost:8080/"
        },
        "id": "bzmFi8WM5lAB",
        "outputId": "a328de7a-5221-40fc-d808-d6760f0a15a3"
      },
      "execution_count": 148,
      "outputs": [
        {
          "output_type": "stream",
          "name": "stdout",
          "text": [
            "263/263 [==============================] - 3s 12ms/step - loss: 0.0503 - accuracy: 0.9871\n"
          ]
        }
      ]
    },
    {
      "cell_type": "markdown",
      "source": [
        "###Using a Deeper Neural Network"
      ],
      "metadata": {
        "id": "yQxv6AI77suz"
      }
    },
    {
      "cell_type": "code",
      "source": [
        "model_cnn2 = Sequential()\n",
        "#Layer1\n",
        "model_cnn2.add(Conv2D(64,(3,3), input_shape = (28,28,1),activation = \"tanh\"))\n",
        "model_cnn2.add(BatchNormalization(name = \"bn0\"))\n",
        "model_cnn2.add(AveragePooling2D(pool_size = (2,2)))\n",
        "#Layer2\n",
        "model_cnn2.add(Conv2D(32,(3,3), activation = \"relu\"))\n",
        "model_cnn2.add(BatchNormalization(name = \"bn1\"))\n",
        "model_cnn2.add(MaxPooling2D(pool_size = (2,2)))\n",
        "#New Layer\n",
        "model_cnn2.add(Conv2D(16,(3,3), activation = \"tanh\"))\n",
        "model_cnn2.add(BatchNormalization(name = \"bn4\"))\n",
        "model_cnn2.add(AveragePooling2D(pool_size = (2,2)))\n",
        "#Flatten Outputs\n",
        "model_cnn2.add(Flatten())\n",
        "#Layer3\n",
        "model_cnn2.add(Dense(128,activation=\"relu\"))\n",
        "model_cnn2.add(BatchNormalization(name = \"bn2\"))\n",
        "model_cnn2.add(Dropout(0.1))\n",
        "#Layer4\n",
        "model_cnn2.add(Dense(64,activation = \"relu\"))\n",
        "model_cnn2.add(BatchNormalization(name = \"bn3\"))\n",
        "model_cnn2.add(Dropout(0.1))\n",
        "#New Layer\n",
        "model_cnn2.add(Dense(32,activation = \"relu\"))\n",
        "model_cnn2.add(BatchNormalization(name = \"bn5\"))\n",
        "model_cnn2.add(Dropout(0.1))\n",
        "#Output\n",
        "model_cnn2.add(Dense(10, name = \"output\", activation = \"softmax\"))\n",
        "model_cnn2.compile(optimizer = \"adam\", loss = \"categorical_crossentropy\",  metrics = [\"accuracy\"])\n",
        "model_cnn2.summary()"
      ],
      "metadata": {
        "colab": {
          "base_uri": "https://localhost:8080/"
        },
        "id": "CtmXSNuq7w7p",
        "outputId": "29cf3665-8040-4a73-8b4e-a9f8dcbf9899"
      },
      "execution_count": 131,
      "outputs": [
        {
          "output_type": "stream",
          "name": "stdout",
          "text": [
            "Model: \"sequential_29\"\n",
            "_________________________________________________________________\n",
            " Layer (type)                Output Shape              Param #   \n",
            "=================================================================\n",
            " conv2d_42 (Conv2D)          (None, 26, 26, 64)        640       \n",
            "                                                                 \n",
            " bn0 (BatchNormalization)    (None, 26, 26, 64)        256       \n",
            "                                                                 \n",
            " average_pooling2d_13 (Avera  (None, 13, 13, 64)       0         \n",
            " gePooling2D)                                                    \n",
            "                                                                 \n",
            " conv2d_43 (Conv2D)          (None, 11, 11, 32)        18464     \n",
            "                                                                 \n",
            " bn1 (BatchNormalization)    (None, 11, 11, 32)        128       \n",
            "                                                                 \n",
            " max_pooling2d_23 (MaxPoolin  (None, 5, 5, 32)         0         \n",
            " g2D)                                                            \n",
            "                                                                 \n",
            " conv2d_44 (Conv2D)          (None, 3, 3, 16)          4624      \n",
            "                                                                 \n",
            " bn4 (BatchNormalization)    (None, 3, 3, 16)          64        \n",
            "                                                                 \n",
            " average_pooling2d_14 (Avera  (None, 1, 1, 16)         0         \n",
            " gePooling2D)                                                    \n",
            "                                                                 \n",
            " flatten_12 (Flatten)        (None, 16)                0         \n",
            "                                                                 \n",
            " dense_50 (Dense)            (None, 128)               2176      \n",
            "                                                                 \n",
            " bn2 (BatchNormalization)    (None, 128)               512       \n",
            "                                                                 \n",
            " dropout_49 (Dropout)        (None, 128)               0         \n",
            "                                                                 \n",
            " dense_51 (Dense)            (None, 64)                8256      \n",
            "                                                                 \n",
            " bn3 (BatchNormalization)    (None, 64)                256       \n",
            "                                                                 \n",
            " dropout_50 (Dropout)        (None, 64)                0         \n",
            "                                                                 \n",
            " dense_52 (Dense)            (None, 32)                2080      \n",
            "                                                                 \n",
            " bn5 (BatchNormalization)    (None, 32)                128       \n",
            "                                                                 \n",
            " dropout_51 (Dropout)        (None, 32)                0         \n",
            "                                                                 \n",
            " output (Dense)              (None, 10)                330       \n",
            "                                                                 \n",
            "=================================================================\n",
            "Total params: 37,914\n",
            "Trainable params: 37,242\n",
            "Non-trainable params: 672\n",
            "_________________________________________________________________\n"
          ]
        }
      ]
    },
    {
      "cell_type": "markdown",
      "source": [
        "Hyperparameter tuning: Trying new activation functions and adding dropout regularization."
      ],
      "metadata": {
        "id": "Lkfq6G3j857o"
      }
    },
    {
      "cell_type": "code",
      "source": [
        "model_cnn2.compile(optimizer = \"adam\", loss = \"categorical_crossentropy\",  metrics = [\"accuracy\"])"
      ],
      "metadata": {
        "id": "PEsd2Y7i9H23"
      },
      "execution_count": 132,
      "outputs": []
    },
    {
      "cell_type": "code",
      "source": [
        "history = model_cnn2.fit(X_train_r, y_train, validation_split = 0.2, epochs = 20)"
      ],
      "metadata": {
        "colab": {
          "base_uri": "https://localhost:8080/"
        },
        "id": "LkwVl85z9Mti",
        "outputId": "bcc2e30d-5f9d-4a8b-e9ec-c7a003cfe2c1"
      },
      "execution_count": 134,
      "outputs": [
        {
          "output_type": "stream",
          "name": "stdout",
          "text": [
            "Epoch 1/20\n",
            "840/840 [==============================] - 39s 47ms/step - loss: 0.1109 - accuracy: 0.9675 - val_loss: 0.1125 - val_accuracy: 0.9677\n",
            "Epoch 2/20\n",
            "840/840 [==============================] - 39s 47ms/step - loss: 0.1079 - accuracy: 0.9686 - val_loss: 0.0892 - val_accuracy: 0.9741\n",
            "Epoch 3/20\n",
            "840/840 [==============================] - 39s 47ms/step - loss: 0.0974 - accuracy: 0.9718 - val_loss: 0.0883 - val_accuracy: 0.9732\n",
            "Epoch 4/20\n",
            "840/840 [==============================] - 39s 47ms/step - loss: 0.0934 - accuracy: 0.9726 - val_loss: 0.1035 - val_accuracy: 0.9708\n",
            "Epoch 5/20\n",
            "840/840 [==============================] - 39s 47ms/step - loss: 0.0858 - accuracy: 0.9739 - val_loss: 0.0748 - val_accuracy: 0.9787\n",
            "Epoch 6/20\n",
            "840/840 [==============================] - 39s 47ms/step - loss: 0.0816 - accuracy: 0.9751 - val_loss: 0.1020 - val_accuracy: 0.9711\n",
            "Epoch 7/20\n",
            "840/840 [==============================] - 39s 47ms/step - loss: 0.0778 - accuracy: 0.9768 - val_loss: 0.0819 - val_accuracy: 0.9769\n",
            "Epoch 8/20\n",
            "840/840 [==============================] - 39s 47ms/step - loss: 0.0786 - accuracy: 0.9772 - val_loss: 0.0968 - val_accuracy: 0.9731\n",
            "Epoch 9/20\n",
            "840/840 [==============================] - 39s 47ms/step - loss: 0.0677 - accuracy: 0.9807 - val_loss: 0.0835 - val_accuracy: 0.9754\n",
            "Epoch 10/20\n",
            "840/840 [==============================] - 39s 47ms/step - loss: 0.0697 - accuracy: 0.9785 - val_loss: 0.0902 - val_accuracy: 0.9747\n",
            "Epoch 11/20\n",
            "840/840 [==============================] - 39s 47ms/step - loss: 0.0689 - accuracy: 0.9797 - val_loss: 0.0832 - val_accuracy: 0.9771\n",
            "Epoch 12/20\n",
            "840/840 [==============================] - 39s 47ms/step - loss: 0.0599 - accuracy: 0.9816 - val_loss: 0.0967 - val_accuracy: 0.9738\n",
            "Epoch 13/20\n",
            "840/840 [==============================] - 39s 47ms/step - loss: 0.0620 - accuracy: 0.9824 - val_loss: 0.0815 - val_accuracy: 0.9790\n",
            "Epoch 14/20\n",
            "840/840 [==============================] - 39s 47ms/step - loss: 0.0582 - accuracy: 0.9818 - val_loss: 0.0776 - val_accuracy: 0.9805\n",
            "Epoch 15/20\n",
            "840/840 [==============================] - 39s 47ms/step - loss: 0.0587 - accuracy: 0.9820 - val_loss: 0.0778 - val_accuracy: 0.9789\n",
            "Epoch 16/20\n",
            "840/840 [==============================] - 39s 47ms/step - loss: 0.0551 - accuracy: 0.9836 - val_loss: 0.0836 - val_accuracy: 0.9765\n",
            "Epoch 17/20\n",
            "840/840 [==============================] - 39s 47ms/step - loss: 0.0538 - accuracy: 0.9838 - val_loss: 0.0895 - val_accuracy: 0.9766\n",
            "Epoch 18/20\n",
            "840/840 [==============================] - 39s 47ms/step - loss: 0.0491 - accuracy: 0.9852 - val_loss: 0.0923 - val_accuracy: 0.9747\n",
            "Epoch 19/20\n",
            "840/840 [==============================] - 39s 47ms/step - loss: 0.0483 - accuracy: 0.9852 - val_loss: 0.0815 - val_accuracy: 0.9777\n",
            "Epoch 20/20\n",
            "840/840 [==============================] - 39s 47ms/step - loss: 0.0487 - accuracy: 0.9849 - val_loss: 0.0933 - val_accuracy: 0.9754\n"
          ]
        }
      ]
    },
    {
      "cell_type": "code",
      "source": [
        "test_accuracy = model_cnn2.evaluate(X_test_r, y_test)[1]\n",
        "Comparison_table = Comparison_table.append({\"model\": \"CNN 2\", \"Test accuracy\": np.round(test_accuracy,6) }, ignore_index = True)"
      ],
      "metadata": {
        "colab": {
          "base_uri": "https://localhost:8080/"
        },
        "id": "6CzDoS9kJmaP",
        "outputId": "a591b92c-0cf9-4ea6-cdd3-ec26f4aedb2a"
      },
      "execution_count": 149,
      "outputs": [
        {
          "output_type": "stream",
          "name": "stdout",
          "text": [
            "263/263 [==============================] - 4s 15ms/step - loss: 0.1111 - accuracy: 0.9720\n"
          ]
        }
      ]
    },
    {
      "cell_type": "markdown",
      "source": [
        "##Model Submission"
      ],
      "metadata": {
        "id": "PH1vholz3Hv3"
      }
    },
    {
      "cell_type": "markdown",
      "source": [
        "We'll Choose the model that gives us the highest test set accuracy."
      ],
      "metadata": {
        "id": "W7FGYUZW3SZd"
      }
    },
    {
      "cell_type": "code",
      "source": [
        "Comparison_table"
      ],
      "metadata": {
        "colab": {
          "base_uri": "https://localhost:8080/",
          "height": 175
        },
        "id": "KqNg80vWJ4pU",
        "outputId": "542a96cf-c024-4a1f-8f05-2477d2350afb"
      },
      "execution_count": 150,
      "outputs": [
        {
          "output_type": "execute_result",
          "data": {
            "text/html": [
              "\n",
              "  <div id=\"df-2bd0fdf6-6fd0-4eae-aa26-b6852deabc22\">\n",
              "    <div class=\"colab-df-container\">\n",
              "      <div>\n",
              "<style scoped>\n",
              "    .dataframe tbody tr th:only-of-type {\n",
              "        vertical-align: middle;\n",
              "    }\n",
              "\n",
              "    .dataframe tbody tr th {\n",
              "        vertical-align: top;\n",
              "    }\n",
              "\n",
              "    .dataframe thead th {\n",
              "        text-align: right;\n",
              "    }\n",
              "</style>\n",
              "<table border=\"1\" class=\"dataframe\">\n",
              "  <thead>\n",
              "    <tr style=\"text-align: right;\">\n",
              "      <th></th>\n",
              "      <th>model</th>\n",
              "      <th>Test accuracy</th>\n",
              "    </tr>\n",
              "  </thead>\n",
              "  <tbody>\n",
              "    <tr>\n",
              "      <th>0</th>\n",
              "      <td>Shallow NN 1</td>\n",
              "      <td>0.972024</td>\n",
              "    </tr>\n",
              "    <tr>\n",
              "      <th>1</th>\n",
              "      <td>Deep NN 1</td>\n",
              "      <td>0.972024</td>\n",
              "    </tr>\n",
              "    <tr>\n",
              "      <th>2</th>\n",
              "      <td>CNN 1</td>\n",
              "      <td>0.987143</td>\n",
              "    </tr>\n",
              "    <tr>\n",
              "      <th>3</th>\n",
              "      <td>CNN 2</td>\n",
              "      <td>0.972024</td>\n",
              "    </tr>\n",
              "  </tbody>\n",
              "</table>\n",
              "</div>\n",
              "      <button class=\"colab-df-convert\" onclick=\"convertToInteractive('df-2bd0fdf6-6fd0-4eae-aa26-b6852deabc22')\"\n",
              "              title=\"Convert this dataframe to an interactive table.\"\n",
              "              style=\"display:none;\">\n",
              "        \n",
              "  <svg xmlns=\"http://www.w3.org/2000/svg\" height=\"24px\"viewBox=\"0 0 24 24\"\n",
              "       width=\"24px\">\n",
              "    <path d=\"M0 0h24v24H0V0z\" fill=\"none\"/>\n",
              "    <path d=\"M18.56 5.44l.94 2.06.94-2.06 2.06-.94-2.06-.94-.94-2.06-.94 2.06-2.06.94zm-11 1L8.5 8.5l.94-2.06 2.06-.94-2.06-.94L8.5 2.5l-.94 2.06-2.06.94zm10 10l.94 2.06.94-2.06 2.06-.94-2.06-.94-.94-2.06-.94 2.06-2.06.94z\"/><path d=\"M17.41 7.96l-1.37-1.37c-.4-.4-.92-.59-1.43-.59-.52 0-1.04.2-1.43.59L10.3 9.45l-7.72 7.72c-.78.78-.78 2.05 0 2.83L4 21.41c.39.39.9.59 1.41.59.51 0 1.02-.2 1.41-.59l7.78-7.78 2.81-2.81c.8-.78.8-2.07 0-2.86zM5.41 20L4 18.59l7.72-7.72 1.47 1.35L5.41 20z\"/>\n",
              "  </svg>\n",
              "      </button>\n",
              "      \n",
              "  <style>\n",
              "    .colab-df-container {\n",
              "      display:flex;\n",
              "      flex-wrap:wrap;\n",
              "      gap: 12px;\n",
              "    }\n",
              "\n",
              "    .colab-df-convert {\n",
              "      background-color: #E8F0FE;\n",
              "      border: none;\n",
              "      border-radius: 50%;\n",
              "      cursor: pointer;\n",
              "      display: none;\n",
              "      fill: #1967D2;\n",
              "      height: 32px;\n",
              "      padding: 0 0 0 0;\n",
              "      width: 32px;\n",
              "    }\n",
              "\n",
              "    .colab-df-convert:hover {\n",
              "      background-color: #E2EBFA;\n",
              "      box-shadow: 0px 1px 2px rgba(60, 64, 67, 0.3), 0px 1px 3px 1px rgba(60, 64, 67, 0.15);\n",
              "      fill: #174EA6;\n",
              "    }\n",
              "\n",
              "    [theme=dark] .colab-df-convert {\n",
              "      background-color: #3B4455;\n",
              "      fill: #D2E3FC;\n",
              "    }\n",
              "\n",
              "    [theme=dark] .colab-df-convert:hover {\n",
              "      background-color: #434B5C;\n",
              "      box-shadow: 0px 1px 3px 1px rgba(0, 0, 0, 0.15);\n",
              "      filter: drop-shadow(0px 1px 2px rgba(0, 0, 0, 0.3));\n",
              "      fill: #FFFFFF;\n",
              "    }\n",
              "  </style>\n",
              "\n",
              "      <script>\n",
              "        const buttonEl =\n",
              "          document.querySelector('#df-2bd0fdf6-6fd0-4eae-aa26-b6852deabc22 button.colab-df-convert');\n",
              "        buttonEl.style.display =\n",
              "          google.colab.kernel.accessAllowed ? 'block' : 'none';\n",
              "\n",
              "        async function convertToInteractive(key) {\n",
              "          const element = document.querySelector('#df-2bd0fdf6-6fd0-4eae-aa26-b6852deabc22');\n",
              "          const dataTable =\n",
              "            await google.colab.kernel.invokeFunction('convertToInteractive',\n",
              "                                                     [key], {});\n",
              "          if (!dataTable) return;\n",
              "\n",
              "          const docLinkHtml = 'Like what you see? Visit the ' +\n",
              "            '<a target=\"_blank\" href=https://colab.research.google.com/notebooks/data_table.ipynb>data table notebook</a>'\n",
              "            + ' to learn more about interactive tables.';\n",
              "          element.innerHTML = '';\n",
              "          dataTable['output_type'] = 'display_data';\n",
              "          await google.colab.output.renderOutput(dataTable, element);\n",
              "          const docLink = document.createElement('div');\n",
              "          docLink.innerHTML = docLinkHtml;\n",
              "          element.appendChild(docLink);\n",
              "        }\n",
              "      </script>\n",
              "    </div>\n",
              "  </div>\n",
              "  "
            ],
            "text/plain": [
              "          model  Test accuracy\n",
              "0  Shallow NN 1       0.972024\n",
              "1     Deep NN 1       0.972024\n",
              "2         CNN 1       0.987143\n",
              "3         CNN 2       0.972024"
            ]
          },
          "metadata": {},
          "execution_count": 150
        }
      ]
    },
    {
      "cell_type": "markdown",
      "source": [
        "As per the figures, CNN2 model has the highest accuracy on the test set. So we will use CNN1 model for our submission. "
      ],
      "metadata": {
        "id": "VZfJQ9sUIhsX"
      }
    },
    {
      "cell_type": "code",
      "source": [
        "predictions = model_cnn1.predict((digit_test/255).values.reshape(-1,28,28,1))\n",
        "predictions = np.argmax(predictions, axis = 1)\n",
        "submission = pd.DataFrame({\"ImageId\":np.arange(len(predictions))+1, \"Label\":predictions}) \n",
        "submission.to_csv(\"submission.csv\", index = False)"
      ],
      "metadata": {
        "id": "Ar4uoJtW3R56"
      },
      "execution_count": 109,
      "outputs": []
    },
    {
      "cell_type": "markdown",
      "source": [
        "Thank You "
      ],
      "metadata": {
        "id": "ice_P4u1JG-j"
      }
    }
  ]
}